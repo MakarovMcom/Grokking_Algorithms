{
 "cells": [
  {
   "cell_type": "code",
   "execution_count": 1,
   "metadata": {},
   "outputs": [],
   "source": [
    "# import basics\n",
    "import pandas as pd\n",
    "import numpy as np\n",
    "import datetime as dt\n",
    "import math as mth\n",
    "import time\n",
    "from IPython.display import Latex\n",
    "from scipy import stats as st\n",
    "from collections import deque\n",
    "\n",
    "# inport plot libraries\n",
    "import matplotlib.pyplot as plt\n",
    "import seaborn as sns\n",
    "# import plotly.express as px \n",
    "\n",
    "#  from plotly import graph_objects as go\n",
    "#  from plotly.subplots import make_subplots"
   ]
  },
  {
   "cell_type": "markdown",
   "metadata": {},
   "source": [
    "### Table of content: \n",
    "\n",
    "<a href='#Binary Search'>1. Binary Search</a>\n",
    "\n",
    "<a href='#Selection Sort'>2. Selection Sort</a>\n",
    "\n",
    "<a href='#Selection Sort'>3. Recursion</a>\n",
    "\n",
    "<a href='#Selection Sort'>4. Quick Sort</a>\n",
    "\n",
    "<a href='#'>5. --- </a>\n",
    "\n",
    "<a href='#Breadth-First Search'>6. Breadth-First Search</a>\n",
    "\n",
    "<a href='#Dijkstra’s algorithm'>7. Dijkstra’s algorithm</a>\n",
    "\n",
    "<a href='#Greedy algorithm'>8. Greedy algorithm</a>"
   ]
  },
  {
   "cell_type": "markdown",
   "metadata": {},
   "source": [
    "# 1. Binary Search\n",
    "<a id='Binary Search'></a>"
   ]
  },
  {
   "cell_type": "code",
   "execution_count": 2,
   "metadata": {},
   "outputs": [
    {
     "data": {
      "text/plain": [
       "7.0"
      ]
     },
     "execution_count": 2,
     "metadata": {},
     "output_type": "execute_result"
    }
   ],
   "source": [
    "# maximum number of checks from 128\n",
    "mth.log2(128)"
   ]
  },
  {
   "cell_type": "code",
   "execution_count": 3,
   "metadata": {},
   "outputs": [
    {
     "data": {
      "text/plain": [
       "8.0"
      ]
     },
     "execution_count": 3,
     "metadata": {},
     "output_type": "execute_result"
    }
   ],
   "source": [
    "# maximum number of checks from 128 * 2\n",
    "mth.log2(128 * 2)"
   ]
  },
  {
   "cell_type": "code",
   "execution_count": 4,
   "metadata": {},
   "outputs": [
    {
     "data": {
      "text/plain": [
       "2.321928094887362"
      ]
     },
     "execution_count": 4,
     "metadata": {},
     "output_type": "execute_result"
    }
   ],
   "source": [
    "# maximum number of checks from 128 * 2\n",
    "mth.log2(5)"
   ]
  },
  {
   "cell_type": "code",
   "execution_count": 5,
   "metadata": {},
   "outputs": [],
   "source": [
    "def search_iterative(list, item):\n",
    "    # low and high keep track of which part of the list you'll search in.\n",
    "    low = 0\n",
    "    high = len(list) - 1\n",
    "\n",
    "    # While you haven't narrowed it down to one element ...\n",
    "    while low <= high:\n",
    "      # ... check the middle element\n",
    "      mid = (low + high) // 2\n",
    "      guess = list[mid]\n",
    "      # Found the item.\n",
    "      if guess == item:\n",
    "        return mid\n",
    "      # The guess was too high.\n",
    "      if guess > item:\n",
    "        high = mid - 1\n",
    "      # The guess was too low.\n",
    "      else:\n",
    "        low = mid + 1"
   ]
  },
  {
   "cell_type": "code",
   "execution_count": 6,
   "metadata": {},
   "outputs": [],
   "source": [
    "list_with_10_items = [3, 9, 10, 11, 12, 13, 14, 17, 18, 19]"
   ]
  },
  {
   "cell_type": "code",
   "execution_count": 7,
   "metadata": {},
   "outputs": [
    {
     "data": {
      "text/plain": [
       "3"
      ]
     },
     "execution_count": 7,
     "metadata": {},
     "output_type": "execute_result"
    }
   ],
   "source": [
    "# the position of the element\n",
    "search_iterative(list_with_10_items, 11)"
   ]
  },
  {
   "cell_type": "code",
   "execution_count": 8,
   "metadata": {},
   "outputs": [
    {
     "data": {
      "text/plain": [
       "'time for landing search in oprion 1 = 1000000.0000 seconds'"
      ]
     },
     "metadata": {},
     "output_type": "display_data"
    },
    {
     "data": {
      "text/plain": [
       "'time for landing search in oprion 2 = 0.0299 seconds'"
      ]
     },
     "metadata": {},
     "output_type": "display_data"
    }
   ],
   "source": [
    "# algorithm running time\n",
    "\n",
    "# option 1\n",
    "time_1 = 1000000000 * 1 /1000\n",
    "\n",
    "# option 2\n",
    "time_2 = mth.log2(1000000000) * 1 /1000\n",
    "\n",
    "display('time for landing search in oprion 1 = {:.4f} seconds'.format(time_1))\n",
    "display('time for landing search in oprion 2 = {:.4f} seconds'.format(time_2))"
   ]
  },
  {
   "cell_type": "markdown",
   "metadata": {},
   "source": [
    "# 2. Selection sort\n",
    "<a id='Selection sort'></a>"
   ]
  },
  {
   "cell_type": "code",
   "execution_count": 9,
   "metadata": {},
   "outputs": [],
   "source": [
    "# sorting array by ASC\n",
    "\n",
    "def FindSmallest(arr):\n",
    "    smallest = arr[0]\n",
    "    smallest_index = 0\n",
    "    for i in range(1, len(arr)):\n",
    "        if arr[i] < smallest:\n",
    "            smallest = arr[i]\n",
    "            smallest_index = i\n",
    "    return smallest_index\n",
    "\n",
    "\n",
    "def SelectionSort(arr):\n",
    "    newArr= []\n",
    "    for i in range(len(arr)):\n",
    "        smallest_index = FindSmallest(arr)\n",
    "        # выдергивает самый маленький элемент из одного массива и вставляет в другой массив\n",
    "        newArr.append(arr.pop(smallest_index)) \n",
    "    return newArr"
   ]
  },
  {
   "cell_type": "code",
   "execution_count": 10,
   "metadata": {},
   "outputs": [
    {
     "name": "stdout",
     "output_type": "stream",
     "text": [
      "New List before pop :  [6, 2, 3, 4, 5, 6] \n",
      "\n",
      "6\n",
      "New List after pop :  [2, 3, 4, 5, 6] \n",
      "\n"
     ]
    }
   ],
   "source": [
    "list1 = [ 6, 2, 3, 4, 5, 6 ]\n",
    "print(\"New List before pop : \", list1, \"\\n\") \n",
    "# Pops and removes the last element from the list\n",
    "\n",
    "print(list1.pop(0))\n",
    " \n",
    "# Print list after removing last element\n",
    "print(\"New List after pop : \", list1, \"\\n\")"
   ]
  },
  {
   "cell_type": "code",
   "execution_count": 11,
   "metadata": {},
   "outputs": [
    {
     "data": {
      "text/plain": [
       "0"
      ]
     },
     "execution_count": 11,
     "metadata": {},
     "output_type": "execute_result"
    }
   ],
   "source": [
    "FindSmallest(list1)"
   ]
  },
  {
   "cell_type": "code",
   "execution_count": 12,
   "metadata": {},
   "outputs": [
    {
     "data": {
      "text/plain": [
       "[2, 3, 4, 5, 6]"
      ]
     },
     "execution_count": 12,
     "metadata": {},
     "output_type": "execute_result"
    }
   ],
   "source": [
    "SelectionSort(list1)"
   ]
  },
  {
   "cell_type": "markdown",
   "metadata": {},
   "source": [
    "# 3. Recursion\n",
    "<a id='Recursion'></a>"
   ]
  },
  {
   "cell_type": "code",
   "execution_count": 13,
   "metadata": {},
   "outputs": [],
   "source": [
    "def countdown(i):\n",
    "    print(i)\n",
    "    # base case\n",
    "    if i <= 1:\n",
    "        return\n",
    "     # recursion case\n",
    "    else:\n",
    "        countdown(i-1)"
   ]
  },
  {
   "cell_type": "code",
   "execution_count": 14,
   "metadata": {
    "scrolled": true
   },
   "outputs": [
    {
     "name": "stdout",
     "output_type": "stream",
     "text": [
      "3\n",
      "2\n",
      "1\n"
     ]
    }
   ],
   "source": [
    "countdown(3)"
   ]
  },
  {
   "cell_type": "markdown",
   "metadata": {},
   "source": [
    "# 4. Quick sort\n",
    "<a id='Quick sort'></a>"
   ]
  },
  {
   "cell_type": "code",
   "execution_count": 15,
   "metadata": {},
   "outputs": [],
   "source": [
    "# task 4.1 calculate sum\n",
    "def make_sum(list):\n",
    "    if list == []:\n",
    "        return 0\n",
    "    else:\n",
    "        return list[0] + make_sum(list[1:])"
   ]
  },
  {
   "cell_type": "code",
   "execution_count": 16,
   "metadata": {},
   "outputs": [],
   "source": [
    "list_1 = [6,2,4, 1]"
   ]
  },
  {
   "cell_type": "code",
   "execution_count": 17,
   "metadata": {},
   "outputs": [
    {
     "data": {
      "text/plain": [
       "13"
      ]
     },
     "execution_count": 17,
     "metadata": {},
     "output_type": "execute_result"
    }
   ],
   "source": [
    "make_sum(list_1)"
   ]
  },
  {
   "cell_type": "code",
   "execution_count": 18,
   "metadata": {},
   "outputs": [],
   "source": [
    "# task 4.2 calculate count\n",
    "def make_count(list):\n",
    "    if list == []:\n",
    "        return 0\n",
    "    else:\n",
    "        return 1 + make_count(list[1:])"
   ]
  },
  {
   "cell_type": "code",
   "execution_count": 19,
   "metadata": {},
   "outputs": [
    {
     "data": {
      "text/plain": [
       "4"
      ]
     },
     "execution_count": 19,
     "metadata": {},
     "output_type": "execute_result"
    }
   ],
   "source": [
    "make_count(list_1)"
   ]
  },
  {
   "cell_type": "code",
   "execution_count": 20,
   "metadata": {},
   "outputs": [],
   "source": [
    "# task 4.3 find max\n",
    "def find_max(list):\n",
    "    if len(list) == 2:\n",
    "        return list[0] if list[0] > list[1] else list[1]\n",
    "    sub_max = find_max(list[1:])\n",
    "    return list[0] if list[0] > sub_max else sub_max"
   ]
  },
  {
   "cell_type": "code",
   "execution_count": 21,
   "metadata": {},
   "outputs": [
    {
     "data": {
      "text/plain": [
       "6"
      ]
     },
     "execution_count": 21,
     "metadata": {},
     "output_type": "execute_result"
    }
   ],
   "source": [
    "find_max(list_1)"
   ]
  },
  {
   "cell_type": "code",
   "execution_count": 22,
   "metadata": {},
   "outputs": [],
   "source": [
    "# quick sort algorithm\n",
    "def quicksort(array):\n",
    "    if len(array) < 2:\n",
    "        return array\n",
    "    else:\n",
    "        pivot = array[0]\n",
    "        less = [i for i in array[1:] if i <= pivot]\n",
    "        greater = [i for i in array[1:] if i > pivot]\n",
    "        return quicksort(less) + [pivot] + quicksort(greater)"
   ]
  },
  {
   "cell_type": "code",
   "execution_count": 23,
   "metadata": {},
   "outputs": [
    {
     "data": {
      "text/plain": [
       "[1, 2, 4, 6]"
      ]
     },
     "execution_count": 23,
     "metadata": {},
     "output_type": "execute_result"
    }
   ],
   "source": [
    "quicksort(list_1)"
   ]
  },
  {
   "cell_type": "markdown",
   "metadata": {},
   "source": [
    "# 6. Breadth-First Search\n",
    "<a id='Breadth-First Search'></a>"
   ]
  },
  {
   "cell_type": "code",
   "execution_count": 24,
   "metadata": {},
   "outputs": [],
   "source": [
    "# create the graph\n",
    "graph = {}\n",
    "graph['you'] = ['alice', 'bob', 'claire']\n",
    "graph['bob'] = ['anuj', 'peggy']\n",
    "graph['alice'] = ['peggy']\n",
    "graph['claire'] = ['thom', 'jonny']\n",
    "graph['anuj'] = []\n",
    "graph['peggy'] = []\n",
    "graph['thom'] = []\n",
    "graph['jonny'] = []"
   ]
  },
  {
   "cell_type": "code",
   "execution_count": 25,
   "metadata": {},
   "outputs": [
    {
     "name": "stdout",
     "output_type": "stream",
     "text": [
      "deque(['alice', 'bob', 'claire'])\n",
      "alice\n"
     ]
    }
   ],
   "source": [
    "search_queue = deque() # create a new queue\n",
    "search_queue += graph['you'] \n",
    "\n",
    "print(search_queue)\n",
    "person = search_queue.popleft()\n",
    "print(person)"
   ]
  },
  {
   "cell_type": "code",
   "execution_count": 26,
   "metadata": {},
   "outputs": [],
   "source": [
    "# create functions\n",
    "\n",
    "def person_is_seller(name):\n",
    "    return name[-1] == 'm'         # if the name ends with 'm', so it is a mango seller\n",
    "\n",
    "def search(name):\n",
    "    search_queue = deque()         # create an empty queue\n",
    "    search_queue += graph[name]    # fill in an empty queue with values\n",
    "    searched = []                  # will be used for check people wether they were checked before\n",
    "    while search_queue:\n",
    "        person = search_queue.popleft()   # point out the first element in the queue\n",
    "        if not person in searched:        # was this element was checked before?\n",
    "            if person_is_seller(person):                 # is that mango seller\n",
    "                print (person + \" is a mango seller!\")   # print yes or no\n",
    "            else:\n",
    "                search_queue += graph[person]            # add in the queue a new graph\n",
    "                searched.append(person)                  # add element in check list"
   ]
  },
  {
   "cell_type": "code",
   "execution_count": 27,
   "metadata": {},
   "outputs": [
    {
     "name": "stdout",
     "output_type": "stream",
     "text": [
      "thom is a mango seller!\n"
     ]
    }
   ],
   "source": [
    "search('you')"
   ]
  },
  {
   "cell_type": "code",
   "execution_count": 28,
   "metadata": {},
   "outputs": [
    {
     "data": {
      "text/plain": [
       "{'проснуться': ['сделать зарядку', 'почистить зубы', 'упаковать обед'],\n",
       " 'почистить зубы': ['позавтракать'],\n",
       " 'сделать зарядку': ['принять душ'],\n",
       " 'принять душ': ['одеться']}"
      ]
     },
     "execution_count": 28,
     "metadata": {},
     "output_type": "execute_result"
    }
   ],
   "source": [
    "# exercise 6.4\n",
    "\n",
    "graph = {}\n",
    "graph['проснуться'] = ['сделать зарядку', 'почистить зубы', 'упаковать обед']\n",
    "graph['почистить зубы'] = ['позавтракать']\n",
    "graph['сделать зарядку'] = ['принять душ']\n",
    "graph['принять душ'] = ['одеться']\n",
    "\n",
    "graph"
   ]
  },
  {
   "cell_type": "markdown",
   "metadata": {},
   "source": [
    "# 7. Dijkstra’s algorithm\n",
    "<a id='Dijkstra’s algorithm'></a>"
   ]
  },
  {
   "cell_type": "code",
   "execution_count": 29,
   "metadata": {},
   "outputs": [],
   "source": [
    "# make the graph\n",
    "graph = {}\n",
    "graph['start'] = {}\n",
    "graph['start']['a'] = 6\n",
    "graph['start']['b'] = 2\n",
    "graph['a'] = {}\n",
    "graph['a']['fin'] = 1\n",
    "graph['b'] = {}\n",
    "graph['b']['a'] = 3\n",
    "graph['b']['fin'] = 5\n",
    "graph['fin'] = {}\n",
    "\n",
    "# make the costs\n",
    "infinity = float('inf')\n",
    "costs = {}\n",
    "costs['a'] = 6\n",
    "costs['b'] = 2\n",
    "costs['fin'] = infinity\n",
    "\n",
    "# make parents table\n",
    "parents = {}\n",
    "parents['a'] = 'start'\n",
    "parents['b'] = 'start'\n",
    "parents['in'] = None\n",
    "\n",
    "# empty array for checked items\n",
    "processed = []"
   ]
  },
  {
   "cell_type": "code",
   "execution_count": 30,
   "metadata": {},
   "outputs": [
    {
     "name": "stdout",
     "output_type": "stream",
     "text": [
      "{'start': {'a': 6, 'b': 2}, 'a': {'fin': 1}, 'b': {'a': 3, 'fin': 5}, 'fin': {}}\n",
      "{'a': 6, 'b': 2, 'fin': inf}\n",
      "{'a': 'start', 'b': 'start', 'in': None}\n",
      "[]\n"
     ]
    }
   ],
   "source": [
    "# check created items\n",
    "for i in [graph, costs, parents, processed]:\n",
    "    print (i)"
   ]
  },
  {
   "cell_type": "code",
   "execution_count": 31,
   "metadata": {},
   "outputs": [],
   "source": [
    "# find the node with the lowest cost (найти узел с наименьшей стоимостью)\n",
    "def find_lowest_cost_node(costs):\n",
    "    lowest_cost = float('inf') # the lowest cost is equal infinitive\n",
    "    lowest_cost_node = None    # the lowest node is indefinite\n",
    "    for node in costs:         # check all the nodes\n",
    "        cost = costs[node]\n",
    "        if cost < lowest_cost and node not in processed: \n",
    "            lowest_cost = cost\n",
    "            lowest_cost_node = node\n",
    "    return lowest_cost_node  "
   ]
  },
  {
   "cell_type": "code",
   "execution_count": 32,
   "metadata": {},
   "outputs": [
    {
     "name": "stdout",
     "output_type": "stream",
     "text": [
      "lowest node is b\n",
      "\n",
      "cost of the lowest node = 2\n",
      "neighbors of the lowest node: {'a': 3, 'fin': 5}\n",
      "\n",
      "node a\n",
      "privious cost 6\n",
      "node a new cost = 5\n",
      "\n",
      "node fin\n",
      "privious cost inf\n",
      "node fin new cost = 7\n",
      "cost of the lowest node = 5\n",
      "neighbors of the lowest node: {'fin': 1}\n",
      "\n",
      "node fin\n",
      "privious cost 7\n",
      "node fin new cost = 6\n",
      "cost of the lowest node = 6\n",
      "neighbors of the lowest node: {}\n",
      "\n",
      "None\n"
     ]
    }
   ],
   "source": [
    "path = []\n",
    "node = find_lowest_cost_node(costs)   # find the lowest node among unprocessed \n",
    "print('lowest node is',node)\n",
    "print()\n",
    "while node is not None:               # if all nodes have been processed, then the while loop is finished\n",
    "    cost = costs[node]                # get the cost of the lowest node \n",
    "    print('cost of the lowest node =', cost)\n",
    "    neighbors = graph[node]           # get the neighbors of the lowest node\n",
    "    print('neighbors of the lowest node:', neighbors)\n",
    "    for n in neighbors.keys():        # check the neighbors\n",
    "        print()\n",
    "        print('node', n)\n",
    "        new_cost = cost + neighbors[n]    # calculate the cost from lowest node to its neighbors\n",
    "        print('privious cost', costs[n])\n",
    "        print('node ' + n + ' new cost =', new_cost)\n",
    "        if costs[n] > new_cost:           # if old cost is bigger \n",
    "            costs[n] = new_cost           # the new cost then refresh new cost\n",
    "            parents[n] = node             # the node is becoming the new parent for the neighbor\n",
    "    processed.append(node)\n",
    "    node = find_lowest_cost_node(costs)   # find the next node to process and repeat the cycle\n",
    "\n",
    "print()\n",
    "print(node)"
   ]
  },
  {
   "cell_type": "markdown",
   "metadata": {},
   "source": [
    "# 8. Greedy algorithm\n",
    "<a id='Greedy algorithm'></a>"
   ]
  },
  {
   "cell_type": "code",
   "execution_count": 33,
   "metadata": {},
   "outputs": [],
   "source": [
    "# let's cover the states in the USA with a radio signal\n",
    "states_needed = set(['mt', 'wa', 'or', 'id', 'nv', 'ut', 'ca', 'az'])\n",
    "\n",
    "# stations and its' cover area\n",
    "stations = {}\n",
    "stations['kone'] = set(['id', 'nv', 'ut'])\n",
    "stations['ktwo'] = set(['wa', 'id', 'mt'])\n",
    "stations['kthree'] = set(['or', 'nv', 'ca'])\n",
    "stations['kfour'] = set(['nv', 'ut'])\n",
    "stations['kfive'] = set(['ca', 'az'])\n",
    "\n",
    "# storage for final set of stations\n",
    "final_stations = set()"
   ]
  },
  {
   "cell_type": "code",
   "execution_count": 34,
   "metadata": {},
   "outputs": [],
   "source": [
    "while states_needed:                                 # while not empty\n",
    "    best_station = None                              # statition which cover the most number of states, not covered in corrent area\n",
    "    states_covered = set()                           # states covered by best station\n",
    "    for station, states in stations.items():         # this loop is searching the best station which covers crossed sets\n",
    "            covered = states_needed & states         # find covering zone by 1st, 2nd, 3rd station and etc.\n",
    "            if len(covered) > len(states_covered):\n",
    "                best_station = station\n",
    "                states_covered = covered\n",
    "    states_needed -= states_covered\n",
    "    final_stations.add(best_station)\n"
   ]
  },
  {
   "cell_type": "code",
   "execution_count": 35,
   "metadata": {},
   "outputs": [
    {
     "data": {
      "text/plain": [
       "{'kfive', 'kone', 'kthree', 'ktwo'}"
      ]
     },
     "execution_count": 35,
     "metadata": {},
     "output_type": "execute_result"
    }
   ],
   "source": [
    "final_stations"
   ]
  },
  {
   "cell_type": "code",
   "execution_count": null,
   "metadata": {},
   "outputs": [],
   "source": []
  }
 ],
 "metadata": {
  "kernelspec": {
   "display_name": "Python 3",
   "language": "python",
   "name": "python3"
  },
  "language_info": {
   "codemirror_mode": {
    "name": "ipython",
    "version": 3
   },
   "file_extension": ".py",
   "mimetype": "text/x-python",
   "name": "python",
   "nbconvert_exporter": "python",
   "pygments_lexer": "ipython3",
   "version": "3.8.8"
  },
  "toc": {
   "base_numbering": 1,
   "nav_menu": {},
   "number_sections": true,
   "sideBar": true,
   "skip_h1_title": false,
   "title_cell": "Table of Contents",
   "title_sidebar": "Contents",
   "toc_cell": false,
   "toc_position": {},
   "toc_section_display": true,
   "toc_window_display": false
  }
 },
 "nbformat": 4,
 "nbformat_minor": 2
}
